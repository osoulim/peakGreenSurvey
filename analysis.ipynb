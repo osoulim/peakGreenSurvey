{
 "cells": [
  {
   "cell_type": "code",
   "execution_count": 1,
   "metadata": {
    "collapsed": true,
    "pycharm": {
     "name": "#%%\n"
    }
   },
   "outputs": [],
   "source": [
    "import pandas as pd\n",
    "import json\n",
    "\n",
    "df = pd.read_csv(\"results.csv\")\n",
    "\n",
    "df = df[\"result\"].apply(lambda x: json.loads(x))"
   ]
  },
  {
   "cell_type": "code",
   "execution_count": 13,
   "outputs": [
    {
     "data": {
      "text/plain": "{'sorting_1': {'first': ['https://peak-green-survey-bucket.s3.us-east-2.amazonaws.com/Field1_2017-07-16.png'],\n  'second': ['https://peak-green-survey-bucket.s3.us-east-2.amazonaws.com/Field1_2017-07-03.png'],\n  'third': ['https://peak-green-survey-bucket.s3.us-east-2.amazonaws.com/Field1_2017-07-23.png']},\n 'sorting_2': {'first': ['https://peak-green-survey-bucket.s3.us-east-2.amazonaws.com/Field1_2018-07-06.png'],\n  'second': ['https://peak-green-survey-bucket.s3.us-east-2.amazonaws.com/Field1_2018-06-26.png'],\n  'third': ['https://peak-green-survey-bucket.s3.us-east-2.amazonaws.com/Field1_2018-07-11.png']},\n 'sorting_3': {'first': ['https://peak-green-survey-bucket.s3.us-east-2.amazonaws.com/Field1_2019-07-13.png'],\n  'second': ['https://peak-green-survey-bucket.s3.us-east-2.amazonaws.com/Field1_2019-07-28.png'],\n  'third': ['https://peak-green-survey-bucket.s3.us-east-2.amazonaws.com/Field1_2019-07-31.png']},\n 'sorting_4': {'first': ['https://peak-green-survey-bucket.s3.us-east-2.amazonaws.com/Field1_2020-07-20.png'],\n  'second': ['https://peak-green-survey-bucket.s3.us-east-2.amazonaws.com/Field1_2020-08-04.png'],\n  'third': ['https://peak-green-survey-bucket.s3.us-east-2.amazonaws.com/Field1_2020-07-27.png']},\n 'sorting_5': {'first': ['/images/field1_ndvi_brightest.jpg'],\n  'second': ['/images/field1_ndvi_light.jpg'],\n  'third': ['/images/field1_ndvi.jpg']},\n 'sorting_6': {'first': ['https://peak-green-survey-bucket.s3.us-east-2.amazonaws.com/Field2_2017-08-07.png'],\n  'second': ['https://peak-green-survey-bucket.s3.us-east-2.amazonaws.com/Field2_2017-07-13.png'],\n  'third': ['https://peak-green-survey-bucket.s3.us-east-2.amazonaws.com/Field2_2017-07-18.png']},\n 'sorting_7': {'first': ['https://peak-green-survey-bucket.s3.us-east-2.amazonaws.com/Field2_2018-07-13.png'],\n  'second': ['https://peak-green-survey-bucket.s3.us-east-2.amazonaws.com/Field2_2018-07-18.png'],\n  'third': ['https://peak-green-survey-bucket.s3.us-east-2.amazonaws.com/Field2_2018-08-07.png']},\n 'sorting_8': {'first': ['https://peak-green-survey-bucket.s3.us-east-2.amazonaws.com/Field2_2019-07-13.png'],\n  'second': ['https://peak-green-survey-bucket.s3.us-east-2.amazonaws.com/Field2_2019-07-18.png'],\n  'third': ['https://peak-green-survey-bucket.s3.us-east-2.amazonaws.com/Field2_2019-07-28.png']},\n 'sorting_9': {'first': ['https://peak-green-survey-bucket.s3.us-east-2.amazonaws.com/Field2_2020-07-27.png'],\n  'second': ['https://peak-green-survey-bucket.s3.us-east-2.amazonaws.com/Field2_2020-07-12.png'],\n  'third': ['https://peak-green-survey-bucket.s3.us-east-2.amazonaws.com/Field2_2020-07-22.png']},\n 'sorting_10': {'first': ['/images/Field3_brightest.png'],\n  'second': ['/images/Field3_light.png'],\n  'third': ['/images/Field3.png']},\n 'sorting_11': {'first': ['https://peak-green-survey-bucket.s3.us-east-2.amazonaws.com/Field3_2018-07-06.png'],\n  'second': ['https://peak-green-survey-bucket.s3.us-east-2.amazonaws.com/Field3_2018-07-11.png'],\n  'third': ['https://peak-green-survey-bucket.s3.us-east-2.amazonaws.com/Field3_2018-07-21.png']},\n 'sorting_12': {'first': ['https://peak-green-survey-bucket.s3.us-east-2.amazonaws.com/Field3_2020-07-15.png'],\n  'second': ['https://peak-green-survey-bucket.s3.us-east-2.amazonaws.com/Field3_2020-07-10.png'],\n  'third': ['https://peak-green-survey-bucket.s3.us-east-2.amazonaws.com/Field3_2020-07-30.png']},\n 'sorting_13': {'first': ['https://peak-green-survey-bucket.s3.us-east-2.amazonaws.com/Field3_2021-07-10.png'],\n  'second': ['https://peak-green-survey-bucket.s3.us-east-2.amazonaws.com/Field3_2021-07-25.png'],\n  'third': ['https://peak-green-survey-bucket.s3.us-east-2.amazonaws.com/Field3_2021-07-15.png']}}"
     },
     "execution_count": 13,
     "metadata": {},
     "output_type": "execute_result"
    }
   ],
   "source": [
    "df[0]"
   ],
   "metadata": {
    "collapsed": false,
    "pycharm": {
     "name": "#%%\n"
    }
   }
  },
  {
   "cell_type": "code",
   "execution_count": 17,
   "outputs": [
    {
     "name": "stdout",
     "output_type": "stream",
     "text": [
      "2\n",
      "3\n",
      "9\n",
      "10\n",
      "13\n",
      "16\n",
      "21\n",
      "22\n",
      "23\n",
      "33\n",
      "35\n",
      "38\n",
      "43\n",
      "46\n",
      "48\n",
      "52\n",
      "54\n",
      "55\n",
      "59\n",
      "62\n",
      "63\n",
      "70\n",
      "71\n",
      "72\n",
      "73\n",
      "78\n",
      "80\n",
      "82\n",
      "88\n",
      "102\n",
      "104\n",
      "107\n",
      "108\n",
      "111\n",
      "113\n",
      "119\n"
     ]
    }
   ],
   "source": [
    "image_rates = dict()\n",
    "\n",
    "for index, user_result in enumerate(df):\n",
    "    if ('/images/field1_ndvi_brightest.jpg' not in user_result['sorting_5']['first']) or ('/images/Field3_brightest.png' not in user_result['sorting_10']['first']):\n",
    "        print(index)\n",
    "        continue\n",
    "    for i in range(1, 14):\n",
    "        if i == 5 or i == 10:\n",
    "            continue\n",
    "        for rank_index, rank in enumerate(['first', 'second', 'third']):\n",
    "            points = 3 - rank_index\n",
    "            for image in user_result['sorting_%d' % i][rank]:\n",
    "                shorten_name = image.split('/')[-1]\n",
    "                if shorten_name not in image_rates:\n",
    "                    image_rates[shorten_name] = {\"name\": shorten_name, \"first\": 0, \"second\": 0, \"third\": 0, \"point\": 0}\n",
    "                image_rates[shorten_name][rank] += 1\n",
    "                image_rates[shorten_name]['point'] += points\n",
    "    # break"
   ],
   "metadata": {
    "collapsed": false,
    "pycharm": {
     "name": "#%%\n"
    }
   }
  },
  {
   "cell_type": "code",
   "execution_count": 25,
   "outputs": [],
   "source": [
    "res = pd.DataFrame(image_rates.values())\n",
    "res.to_csv(\"points.csv\")"
   ],
   "metadata": {
    "collapsed": false,
    "pycharm": {
     "name": "#%%\n"
    }
   }
  }
 ],
 "metadata": {
  "kernelspec": {
   "display_name": "Python 3",
   "language": "python",
   "name": "python3"
  },
  "language_info": {
   "codemirror_mode": {
    "name": "ipython",
    "version": 2
   },
   "file_extension": ".py",
   "mimetype": "text/x-python",
   "name": "python",
   "nbconvert_exporter": "python",
   "pygments_lexer": "ipython2",
   "version": "2.7.6"
  }
 },
 "nbformat": 4,
 "nbformat_minor": 0
}